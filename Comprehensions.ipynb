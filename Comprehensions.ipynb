{
 "cells": [
  {
   "cell_type": "code",
   "execution_count": 1,
   "id": "fdbecdaf",
   "metadata": {},
   "outputs": [
    {
     "name": "stdout",
     "output_type": "stream",
     "text": [
      "['A', 'c', 'E']\n"
     ]
    }
   ],
   "source": [
    "old_list = \"abcde\"\n",
    "new_list = [\n",
    "    c.upper() if c in \"aeiou\" else c for i, c in enumerate(old_list) if i % 2 == 0\n",
    "]\n",
    "print(new_list)"
   ]
  },
  {
   "cell_type": "code",
   "execution_count": 2,
   "id": "bf44b04e",
   "metadata": {},
   "outputs": [
    {
     "name": "stdout",
     "output_type": "stream",
     "text": [
      "[(3, 0), (3, 1), (4, 0), (4, 1)]\n"
     ]
    }
   ],
   "source": [
    "print([(i, j) for i in range(5) if i > 2 for j in range(i) if j < 2])"
   ]
  },
  {
   "cell_type": "code",
   "execution_count": 3,
   "id": "5259d793",
   "metadata": {},
   "outputs": [
    {
     "name": "stdout",
     "output_type": "stream",
     "text": [
      "{0: 'a', 1: 'b', 2: 'c', 3: 'a', 4: 'e'}\n"
     ]
    }
   ],
   "source": [
    "print({i: c for i, c in enumerate(\"abcaebce\") if i < 5})"
   ]
  },
  {
   "cell_type": "code",
   "execution_count": 4,
   "id": "3057bac0",
   "metadata": {},
   "outputs": [
    {
     "name": "stdout",
     "output_type": "stream",
     "text": [
      "0 a 1\n",
      "1 b 2\n",
      "2 c 2\n",
      "[{'a': 1, 'i': 0}, {'b': 2, 'i': 1}, {'c': 2, 'i': 2}]\n"
     ]
    }
   ],
   "source": [
    "arr = [(\"a\", 1), (\"b\", 2), (\"c\", 2)]\n",
    "for idx, (char, i) in enumerate(arr):\n",
    "    print(idx, char, i)\n",
    "print([{key: value, \"i\": idx} for idx, (key, value) in enumerate(arr)])"
   ]
  },
  {
   "cell_type": "code",
   "execution_count": 5,
   "id": "5282bc4a",
   "metadata": {},
   "outputs": [
    {
     "name": "stdout",
     "output_type": "stream",
     "text": [
      "[('a', 1), ('b', 2), ('c', 3)]\n",
      "[(1, 4, 7), (2, 5, 8), (3, 6, 9)]\n"
     ]
    }
   ],
   "source": [
    "d = {\"a\": 1, \"b\": 2, \"c\": 3}\n",
    "print([(k, v) for k, v in d.items()])\n",
    "\n",
    "print([(a, b, c) for a, b, c in zip([1, 2, 3], [4, 5, 6], [7, 8, 9])])"
   ]
  },
  {
   "cell_type": "code",
   "execution_count": null,
   "id": "eaef1960",
   "metadata": {},
   "outputs": [],
   "source": []
  }
 ],
 "metadata": {
  "kernelspec": {
   "display_name": "Python 3 (ipykernel)",
   "language": "python",
   "name": "python3"
  },
  "language_info": {
   "codemirror_mode": {
    "name": "ipython",
    "version": 3
   },
   "file_extension": ".py",
   "mimetype": "text/x-python",
   "name": "python",
   "nbconvert_exporter": "python",
   "pygments_lexer": "ipython3",
   "version": "3.10.4"
  }
 },
 "nbformat": 4,
 "nbformat_minor": 5
}
