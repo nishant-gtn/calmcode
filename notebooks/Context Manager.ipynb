{
 "cells": [
  {
   "cell_type": "code",
   "execution_count": 6,
   "id": "57fd020a",
   "metadata": {},
   "outputs": [
    {
     "name": "stdout",
     "output_type": "stream",
     "text": [
      "entering the context manager\n",
      "inside context manager\n",
      "exiting the context manager\n"
     ]
    }
   ],
   "source": [
    "class PrintingContextManager:\n",
    "    def __enter__(self):\n",
    "        print('entering the context manager')\n",
    "        return \"this is the returned value\"\n",
    "        \n",
    "    def __exit__(self, exc_type, exc_value, traceback):\n",
    "        print('exiting the context manager')\n",
    "        \n",
    "\n",
    "with PrintingContextManager():\n",
    "    print('inside context manager')"
   ]
  },
  {
   "cell_type": "code",
   "execution_count": 7,
   "id": "c3465188",
   "metadata": {},
   "outputs": [
    {
     "name": "stdout",
     "output_type": "stream",
     "text": [
      "entering the context manager\n",
      "inside context manager\n",
      "this is the returned value\n",
      "exiting the context manager\n"
     ]
    }
   ],
   "source": [
    "with PrintingContextManager() as var:\n",
    "    print('inside context manager')\n",
    "    print(var)"
   ]
  },
  {
   "cell_type": "markdown",
   "id": "8336d0c2",
   "metadata": {},
   "source": [
    "## Using Decorator"
   ]
  },
  {
   "cell_type": "code",
   "execution_count": 10,
   "id": "9fefdacc",
   "metadata": {},
   "outputs": [],
   "source": [
    "from contextlib import contextmanager\n",
    "\n",
    "@contextmanager\n",
    "def printing_context_manager():\n",
    "    print('entering the context manager')\n",
    "    yield 'i am the returned value'\n",
    "    print('exiting the context manager')"
   ]
  },
  {
   "cell_type": "code",
   "execution_count": 12,
   "id": "b6f84567",
   "metadata": {},
   "outputs": [
    {
     "name": "stdout",
     "output_type": "stream",
     "text": [
      "entering the context manager\n",
      "inside context manager\n",
      "i am the returned value\n",
      "exiting the context manager\n"
     ]
    }
   ],
   "source": [
    "with printing_context_manager() as var:\n",
    "    print('inside context manager')\n",
    "    print(var)"
   ]
  },
  {
   "cell_type": "markdown",
   "id": "ef469406",
   "metadata": {},
   "source": [
    "## Tempfile"
   ]
  },
  {
   "cell_type": "code",
   "execution_count": 14,
   "id": "b2bc1d6f",
   "metadata": {},
   "outputs": [
    {
     "name": "stdout",
     "output_type": "stream",
     "text": [
      "I have a temporary directory at: C:\\Users\\NISHAN~1\\AppData\\Local\\Temp\\tmpwei6z8k_\n",
      "hello, world\n"
     ]
    }
   ],
   "source": [
    "import tempfile\n",
    "\n",
    "with tempfile.TemporaryDirectory() as tempdir_path:\n",
    "    print(f'I have a temporary directory at: {tempdir_path}')\n",
    "\n",
    "with tempfile.TemporaryFile(mode='w+') as file:\n",
    "    file.write('hello, world')\n",
    "    file.seek(0)\n",
    "    print(file.readline())"
   ]
  }
 ],
 "metadata": {
  "kernelspec": {
   "display_name": "Python 3 (ipykernel)",
   "language": "python",
   "name": "python3"
  },
  "language_info": {
   "codemirror_mode": {
    "name": "ipython",
    "version": 3
   },
   "file_extension": ".py",
   "mimetype": "text/x-python",
   "name": "python",
   "nbconvert_exporter": "python",
   "pygments_lexer": "ipython3",
   "version": "3.10.4"
  }
 },
 "nbformat": 4,
 "nbformat_minor": 5
}
