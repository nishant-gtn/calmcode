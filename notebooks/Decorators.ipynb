{
 "cells": [
  {
   "cell_type": "code",
   "execution_count": 1,
   "id": "8e0dde0d",
   "metadata": {},
   "outputs": [
    {
     "name": "stdout",
     "output_type": "stream",
     "text": [
      "8 9\n"
     ]
    }
   ],
   "source": [
    "def power(n):\n",
    "    def func(number):\n",
    "        return number**n\n",
    "\n",
    "    return func\n",
    "\n",
    "\n",
    "pow2 = power(3)\n",
    "pow3 = power(2)\n",
    "\n",
    "print(pow2(2), pow3(3))"
   ]
  },
  {
   "cell_type": "code",
   "execution_count": 3,
   "id": "8fc9ba6d",
   "metadata": {},
   "outputs": [],
   "source": [
    "import time\n",
    "import random\n",
    "\n",
    "\n",
    "def stopwatch(f):\n",
    "    def func(*args, **kwargs):\n",
    "        tic = time.time()\n",
    "        result = f(*args, **kwargs)\n",
    "        print(f\"This function took: {time.time() - tic}\")\n",
    "        return result\n",
    "\n",
    "    return func\n",
    "\n",
    "\n",
    "def sleep_random(s=1):\n",
    "    time.sleep(s + random.random())\n",
    "    return \"Done!\"\n",
    "\n",
    "\n",
    "timed_sleep = stopwatch(sleep_random)"
   ]
  },
  {
   "cell_type": "code",
   "execution_count": 4,
   "id": "40f7f470",
   "metadata": {},
   "outputs": [
    {
     "name": "stdout",
     "output_type": "stream",
     "text": [
      "This function took: 3.430274248123169\n",
      "This function took: 1.230440616607666\n"
     ]
    },
    {
     "data": {
      "text/plain": [
       "('Done!', 'Done!')"
      ]
     },
     "execution_count": 4,
     "metadata": {},
     "output_type": "execute_result"
    }
   ],
   "source": [
    "timed_sleep(3), timed_sleep(1)"
   ]
  },
  {
   "cell_type": "code",
   "execution_count": 7,
   "id": "fd14fa59",
   "metadata": {},
   "outputs": [],
   "source": [
    "from functools import wraps\n",
    "\n",
    "def stopwatch(f):\n",
    "    @wraps(f)\n",
    "    def func(*args, **kwargs):\n",
    "        tic = time.time()\n",
    "        result = f(*args, **kwargs)\n",
    "        print(f\"This function took: {time.time() - tic}\")\n",
    "        return result\n",
    "\n",
    "    return func\n",
    "\n",
    "@stopwatch\n",
    "def sleep_random(s=1):\n",
    "    \"\"\"This function sleeps for at least `s` seconds.\"\"\"\n",
    "    time.sleep(s + random.random())\n",
    "    return \"Done!\""
   ]
  },
  {
   "cell_type": "code",
   "execution_count": 8,
   "id": "4c05d013",
   "metadata": {},
   "outputs": [
    {
     "name": "stdout",
     "output_type": "stream",
     "text": [
      "This function took: 2.8391318321228027\n",
      "This function took: 3.805616855621338\n"
     ]
    },
    {
     "data": {
      "text/plain": [
       "('Done!', 'Done!')"
      ]
     },
     "execution_count": 8,
     "metadata": {},
     "output_type": "execute_result"
    }
   ],
   "source": [
    "sleep_random(2), sleep_random(3)"
   ]
  },
  {
   "cell_type": "code",
   "execution_count": 9,
   "id": "338e3b80",
   "metadata": {},
   "outputs": [
    {
     "name": "stdout",
     "output_type": "stream",
     "text": [
      "Help on function sleep_random in module __main__:\n",
      "\n",
      "sleep_random(s=1)\n",
      "    This function sleeps for at least `s` seconds.\n",
      "\n"
     ]
    }
   ],
   "source": [
    "help(sleep_random)"
   ]
  },
  {
   "cell_type": "markdown",
   "id": "079782db",
   "metadata": {},
   "source": [
    "## Stack"
   ]
  },
  {
   "cell_type": "code",
   "execution_count": 11,
   "id": "afa8782e",
   "metadata": {},
   "outputs": [
    {
     "name": "stdout",
     "output_type": "stream",
     "text": [
      "print-call 2 args: (1.5,)\n",
      "print-call 1 args: (1.5,)\n",
      "print-call 2 args: (1.5,)\n",
      "print-call 1 args: (1.5,)\n"
     ]
    }
   ],
   "source": [
    "import time\n",
    "import random\n",
    "from functools import wraps\n",
    "\n",
    "def print_call1(f):\n",
    "    @wraps(f)\n",
    "    def func(*args, **kwargs):\n",
    "        print(f\"print-call 1 args: {args}\")\n",
    "        result = f(*args, **kwargs)\n",
    "        return result\n",
    "    return func\n",
    "\n",
    "\n",
    "def print_call2(f):\n",
    "    @wraps(f)\n",
    "    def func(*args, **kwargs):\n",
    "        print(f\"print-call 2 args: {args}\")\n",
    "        result = f(*args, **kwargs)\n",
    "        return result\n",
    "    return func\n",
    "\n",
    "\n",
    "@print_call2\n",
    "@print_call1\n",
    "@print_call2\n",
    "@print_call1\n",
    "def sleep_random(s):\n",
    "    \"\"\"This function sleeps at least for `s` seconds.\"\"\"\n",
    "    return time.sleep(s + random.random()/100)\n",
    "\n",
    "sleep_random(1.5)"
   ]
  },
  {
   "cell_type": "markdown",
   "id": "66515ba2",
   "metadata": {},
   "source": [
    "## Inputs\n"
   ]
  },
  {
   "cell_type": "code",
   "execution_count": 16,
   "id": "5d432475",
   "metadata": {},
   "outputs": [
    {
     "name": "stdout",
     "output_type": "stream",
     "text": [
      "call name: sleep_random time: 1.0152807235717773\n"
     ]
    },
    {
     "data": {
      "text/plain": [
       "'Done!'"
      ]
     },
     "execution_count": 16,
     "metadata": {},
     "output_type": "execute_result"
    }
   ],
   "source": [
    "import time\n",
    "import random\n",
    "from functools import wraps\n",
    "\n",
    "def loggg(func_in=None, *, show_time=True, show_name=True):\n",
    "    def stopwatch(f):\n",
    "        @wraps(f)\n",
    "        def func(*args, **kwargs):\n",
    "            tic = time.time()\n",
    "            result = f(*args, **kwargs)\n",
    "            log_text = \"call\"\n",
    "            if show_name:\n",
    "                log_text = f\"{log_text} name: {f.__name__}\"\n",
    "            if show_time:\n",
    "                log_text = f\"{log_text} time: {time.time() - tic}\"\n",
    "            print(log_text)\n",
    "            return result\n",
    "        return func\n",
    "    \n",
    "    if func_in is None:\n",
    "        return stopwatch\n",
    "    else:\n",
    "        return stopwatch(func_in)\n",
    "\n",
    "\n",
    "@loggg(show_time=True, show_name=True)\n",
    "def sleep_random(s=1):\n",
    "    \"\"\"This function sleeps for at least `s` seconds.\"\"\"\n",
    "    time.sleep(s + random.random()/100)\n",
    "    return \"Done!\"\n",
    "\n",
    "sleep_random(1)"
   ]
  },
  {
   "cell_type": "code",
   "execution_count": null,
   "id": "7e6d5b86",
   "metadata": {},
   "outputs": [],
   "source": []
  }
 ],
 "metadata": {
  "kernelspec": {
   "display_name": "Python 3 (ipykernel)",
   "language": "python",
   "name": "python3"
  },
  "language_info": {
   "codemirror_mode": {
    "name": "ipython",
    "version": 3
   },
   "file_extension": ".py",
   "mimetype": "text/x-python",
   "name": "python",
   "nbconvert_exporter": "python",
   "pygments_lexer": "ipython3",
   "version": "3.10.4"
  }
 },
 "nbformat": 4,
 "nbformat_minor": 5
}
