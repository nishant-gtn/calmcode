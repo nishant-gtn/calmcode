{
 "cells": [
  {
   "cell_type": "code",
   "execution_count": 1,
   "id": "469b5f95",
   "metadata": {},
   "outputs": [
    {
     "ename": "ModuleNotFoundError",
     "evalue": "No module named 'pyinstrument'",
     "output_type": "error",
     "traceback": [
      "\u001b[1;31m---------------------------------------------------------------------------\u001b[0m",
      "\u001b[1;31mModuleNotFoundError\u001b[0m                       Traceback (most recent call last)",
      "Input \u001b[1;32mIn [1]\u001b[0m, in \u001b[0;36m<cell line: 2>\u001b[1;34m()\u001b[0m\n\u001b[0;32m      1\u001b[0m \u001b[38;5;28;01mimport\u001b[39;00m \u001b[38;5;21;01mtime\u001b[39;00m\n\u001b[1;32m----> 2\u001b[0m \u001b[38;5;28;01mfrom\u001b[39;00m \u001b[38;5;21;01mpyinstrument\u001b[39;00m \u001b[38;5;28;01mimport\u001b[39;00m Profiler\n\u001b[0;32m      4\u001b[0m profiler \u001b[38;5;241m=\u001b[39m Profiler()\n\u001b[0;32m      5\u001b[0m profiler\u001b[38;5;241m.\u001b[39mstart()\n",
      "\u001b[1;31mModuleNotFoundError\u001b[0m: No module named 'pyinstrument'"
     ]
    }
   ],
   "source": [
    "import time\n",
    "from pyinstrument import Profiler\n",
    "\n",
    "profiler = Profiler()\n",
    "profiler.start()\n",
    "\n",
    "sleep_time = 0.5\n",
    "\n",
    "def start():\n",
    "    time.sleep(sleep_time)\n",
    "    do_sleep_1()\n",
    "    do_sleep_2()\n",
    "    \n",
    "def do_sleep_1():\n",
    "    time.sleep(sleep_time)\n",
    "    \n",
    "def do_sleep_2():\n",
    "    do_sleep_1()\n",
    "    time.sleep(sleep_time)\n",
    "    \n",
    "start()\n",
    "\n",
    "profiler.stop()\n",
    "profiler.print()\n",
    "profiler.output_html()\n",
    "profiler.open_in_browser()"
   ]
  },
  {
   "cell_type": "markdown",
   "id": "c5952854",
   "metadata": {},
   "source": [
    "#### Code that takes <1ms may not be registered by pyinstrument"
   ]
  },
  {
   "cell_type": "code",
   "execution_count": null,
   "id": "149e1abe",
   "metadata": {},
   "outputs": [],
   "source": [
    "import time\n",
    "from pyinstrument import Profiler\n",
    "\n",
    "# Note the interval value is 1/10th the sleeptime!\n",
    "profiler = Profiler(interval=0.000001)\n",
    "# This may cause more overhead\n",
    "profiler.start()\n",
    "\n",
    "sleep_time = 0.00001\n",
    "\n",
    "def start():\n",
    "    time.sleep(sleep_time)\n",
    "    do_sleep1()\n",
    "    do_sleep2()\n",
    "\n",
    "def do_sleep1():\n",
    "    time.sleep(sleep_time)\n",
    "\n",
    "def do_sleep2():\n",
    "    do_sleep1()\n",
    "    time.sleep(sleep_time)\n",
    "\n",
    "start()\n",
    "\n",
    "profiler.stop()\n",
    "profiler.print()\n"
   ]
  }
 ],
 "metadata": {
  "kernelspec": {
   "display_name": "Python 3 (ipykernel)",
   "language": "python",
   "name": "python3"
  },
  "language_info": {
   "codemirror_mode": {
    "name": "ipython",
    "version": 3
   },
   "file_extension": ".py",
   "mimetype": "text/x-python",
   "name": "python",
   "nbconvert_exporter": "python",
   "pygments_lexer": "ipython3",
   "version": "3.10.4"
  }
 },
 "nbformat": 4,
 "nbformat_minor": 5
}
